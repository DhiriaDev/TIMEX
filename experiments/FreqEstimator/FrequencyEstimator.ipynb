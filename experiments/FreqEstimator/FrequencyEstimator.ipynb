{
 "cells": [
  {
   "cell_type": "code",
   "execution_count": 1,
   "id": "a79d5c3d-5dfe-4e8b-a0e2-071d427cc88e",
   "metadata": {},
   "outputs": [],
   "source": [
    "import pandas as pd\n",
    "import dateparser\n",
    "from timexseries.data_ingestion import add_freq\n",
    "\n",
    "from collections import Counter"
   ]
  },
  {
   "cell_type": "code",
   "execution_count": 38,
   "id": "f8593ba9-d4f7-4575-b028-696674104999",
   "metadata": {},
   "outputs": [],
   "source": [
    "def add_freq_new(df, freq=None) -> pd.DataFrame:\n",
    "    local_df = df.copy()\n",
    "\n",
    "    # Check if df has a DatetimeIndex. If not, return without doing anything.\n",
    "    try:\n",
    "        i = local_df.index.freq\n",
    "    except:\n",
    "        return local_df\n",
    "\n",
    "    # Df has already a freq. Don't do anything.\n",
    "    if local_df.index.freq is not None:\n",
    "        return local_df\n",
    "\n",
    "    # We have to find a frequency for df.\n",
    "    if freq is None:\n",
    "\n",
    "        portions = 1\n",
    "        index = local_df.index.to_numpy()\n",
    "        \n",
    "        while freq is None and portions < (len(local_df) / 2):\n",
    "            freqs = [pd.infer_freq(portion) for portion in np.array_split(index, portions)]\n",
    "            print(freqs)\n",
    "            freqs = [f for f in freqs if f is not None]  # Filter out None\n",
    "            c = Counter(freqs)\n",
    "            if len(freqs) == 1:\n",
    "                freq = c.most_common()[0][0]\n",
    "            elif len(freqs) > 1:\n",
    "                if c.most_common()[0][0] > c.most_common()[1][0]:\n",
    "                    freq = c.most_common()[0][0]\n",
    "                \n",
    "            portions += 1\n",
    "\n",
    "        if freq is None:\n",
    "            log.warning(f\"No discernible frequency found for the dataframe.\")\n",
    "            freq = \"D\"\n",
    "\n",
    "        local_df = local_df.asfreq(freq=freq)\n",
    "        return local_df"
   ]
  },
  {
   "cell_type": "code",
   "execution_count": 39,
   "id": "02edb27d-dcd5-4c9e-b3b0-98cf7708c4ed",
   "metadata": {},
   "outputs": [
    {
     "data": {
      "text/plain": [
       "Counter()"
      ]
     },
     "execution_count": 39,
     "metadata": {},
     "output_type": "execute_result"
    }
   ],
   "source": [
    "Counter([])"
   ]
  },
  {
   "cell_type": "code",
   "execution_count": 40,
   "id": "41f2c69c-9bce-4405-bd67-0d62ab2d92c6",
   "metadata": {},
   "outputs": [],
   "source": [
    "def load_ts(path):\n",
    "    df = pd.read_csv(path)\n",
    "    index = df.columns[0]\n",
    "    df[index] = df[index].apply(lambda x: dateparser.parse(x))\n",
    "    df.set_index(index, inplace=True, drop=True)\n",
    "\n",
    "    df = df[~df.index.duplicated(keep='last')]\n",
    "    if not df.index.is_monotonic_increasing:\n",
    "        print(f\"Dataframe is not ordered. Ordering it...\")\n",
    "        df = df.sort_index()\n",
    "    return df"
   ]
  },
  {
   "cell_type": "code",
   "execution_count": 63,
   "id": "5e48bbb0-17c8-48c5-b387-c3f64951f622",
   "metadata": {},
   "outputs": [],
   "source": [
    "df = load_ts('Test7.csv')"
   ]
  },
  {
   "cell_type": "code",
   "execution_count": 64,
   "id": "bb041189-c468-4869-a6e6-65110e691121",
   "metadata": {},
   "outputs": [
    {
     "name": "stderr",
     "output_type": "stream",
     "text": [
      "No discernible frequency found for the dataframe.\n"
     ]
    },
    {
     "data": {
      "text/html": [
       "<div>\n",
       "<style scoped>\n",
       "    .dataframe tbody tr th:only-of-type {\n",
       "        vertical-align: middle;\n",
       "    }\n",
       "\n",
       "    .dataframe tbody tr th {\n",
       "        vertical-align: top;\n",
       "    }\n",
       "\n",
       "    .dataframe thead th {\n",
       "        text-align: right;\n",
       "    }\n",
       "</style>\n",
       "<table border=\"1\" class=\"dataframe\">\n",
       "  <thead>\n",
       "    <tr style=\"text-align: right;\">\n",
       "      <th></th>\n",
       "      <th>Ultimo</th>\n",
       "    </tr>\n",
       "    <tr>\n",
       "      <th>Data</th>\n",
       "      <th></th>\n",
       "    </tr>\n",
       "  </thead>\n",
       "  <tbody>\n",
       "    <tr>\n",
       "      <th>2021-01-08</th>\n",
       "      <td>1.9550</td>\n",
       "    </tr>\n",
       "    <tr>\n",
       "      <th>2021-01-09</th>\n",
       "      <td>NaN</td>\n",
       "    </tr>\n",
       "    <tr>\n",
       "      <th>2021-01-10</th>\n",
       "      <td>NaN</td>\n",
       "    </tr>\n",
       "    <tr>\n",
       "      <th>2021-01-11</th>\n",
       "      <td>NaN</td>\n",
       "    </tr>\n",
       "    <tr>\n",
       "      <th>2021-01-12</th>\n",
       "      <td>NaN</td>\n",
       "    </tr>\n",
       "    <tr>\n",
       "      <th>...</th>\n",
       "      <td>...</td>\n",
       "    </tr>\n",
       "    <tr>\n",
       "      <th>2023-04-17</th>\n",
       "      <td>NaN</td>\n",
       "    </tr>\n",
       "    <tr>\n",
       "      <th>2023-04-18</th>\n",
       "      <td>NaN</td>\n",
       "    </tr>\n",
       "    <tr>\n",
       "      <th>2023-04-19</th>\n",
       "      <td>NaN</td>\n",
       "    </tr>\n",
       "    <tr>\n",
       "      <th>2023-04-20</th>\n",
       "      <td>NaN</td>\n",
       "    </tr>\n",
       "    <tr>\n",
       "      <th>2023-04-21</th>\n",
       "      <td>2.4845</td>\n",
       "    </tr>\n",
       "  </tbody>\n",
       "</table>\n",
       "<p>834 rows × 1 columns</p>\n",
       "</div>"
      ],
      "text/plain": [
       "            Ultimo\n",
       "Data              \n",
       "2021-01-08  1.9550\n",
       "2021-01-09     NaN\n",
       "2021-01-10     NaN\n",
       "2021-01-11     NaN\n",
       "2021-01-12     NaN\n",
       "...            ...\n",
       "2023-04-17     NaN\n",
       "2023-04-18     NaN\n",
       "2023-04-19     NaN\n",
       "2023-04-20     NaN\n",
       "2023-04-21  2.4845\n",
       "\n",
       "[834 rows x 1 columns]"
      ]
     },
     "execution_count": 64,
     "metadata": {},
     "output_type": "execute_result"
    }
   ],
   "source": [
    "add_freq(df)"
   ]
  },
  {
   "cell_type": "code",
   "execution_count": 65,
   "id": "9a7097dc-b426-4c36-9aa1-d9ef1d805459",
   "metadata": {},
   "outputs": [
    {
     "name": "stdout",
     "output_type": "stream",
     "text": [
      "[None]\n",
      "[None, None]\n",
      "[None, None, None]\n",
      "[None, None, None, None]\n",
      "[None, 'W-FRI', None, 'W-FRI', None]\n"
     ]
    },
    {
     "ename": "IndexError",
     "evalue": "list index out of range",
     "output_type": "error",
     "traceback": [
      "\u001b[0;31m---------------------------------------------------------------------------\u001b[0m",
      "\u001b[0;31mIndexError\u001b[0m                                Traceback (most recent call last)",
      "Cell \u001b[0;32mIn[65], line 1\u001b[0m\n\u001b[0;32m----> 1\u001b[0m \u001b[43madd_freq_new\u001b[49m\u001b[43m(\u001b[49m\u001b[43mdf\u001b[49m\u001b[43m)\u001b[49m\n",
      "Cell \u001b[0;32mIn[38], line 34\u001b[0m, in \u001b[0;36madd_freq_new\u001b[0;34m(df, freq)\u001b[0m\n\u001b[1;32m     32\u001b[0m     freq \u001b[38;5;241m=\u001b[39m c\u001b[38;5;241m.\u001b[39mmost_common()[\u001b[38;5;241m0\u001b[39m][\u001b[38;5;241m0\u001b[39m]\n\u001b[1;32m     33\u001b[0m \u001b[38;5;28;01melif\u001b[39;00m \u001b[38;5;28mlen\u001b[39m(freqs) \u001b[38;5;241m>\u001b[39m \u001b[38;5;241m1\u001b[39m:\n\u001b[0;32m---> 34\u001b[0m     \u001b[38;5;28;01mif\u001b[39;00m c\u001b[38;5;241m.\u001b[39mmost_common()[\u001b[38;5;241m0\u001b[39m][\u001b[38;5;241m0\u001b[39m] \u001b[38;5;241m>\u001b[39m \u001b[43mc\u001b[49m\u001b[38;5;241;43m.\u001b[39;49m\u001b[43mmost_common\u001b[49m\u001b[43m(\u001b[49m\u001b[43m)\u001b[49m\u001b[43m[\u001b[49m\u001b[38;5;241;43m1\u001b[39;49m\u001b[43m]\u001b[49m[\u001b[38;5;241m0\u001b[39m]:\n\u001b[1;32m     35\u001b[0m         freq \u001b[38;5;241m=\u001b[39m c\u001b[38;5;241m.\u001b[39mmost_common()[\u001b[38;5;241m0\u001b[39m][\u001b[38;5;241m0\u001b[39m]\n\u001b[1;32m     37\u001b[0m portions \u001b[38;5;241m+\u001b[39m\u001b[38;5;241m=\u001b[39m \u001b[38;5;241m1\u001b[39m\n",
      "\u001b[0;31mIndexError\u001b[0m: list index out of range"
     ]
    }
   ],
   "source": [
    "add_freq_new(df)"
   ]
  },
  {
   "cell_type": "code",
   "execution_count": 59,
   "id": "aa437950-7136-483e-bf15-1c83f843de81",
   "metadata": {},
   "outputs": [],
   "source": [
    "l = [None, 'H', 'H', 'H', 'H', 'H', 'H', 'H', 'H', 'H']\n",
    "counter = Counter(l)"
   ]
  },
  {
   "cell_type": "code",
   "execution_count": 60,
   "id": "4b6b7be1-c4df-4344-a392-ea78d5bcb044",
   "metadata": {},
   "outputs": [
    {
     "data": {
      "text/plain": [
       "'H'"
      ]
     },
     "execution_count": 60,
     "metadata": {},
     "output_type": "execute_result"
    }
   ],
   "source": [
    "counter.most_common()[0][0]"
   ]
  },
  {
   "cell_type": "code",
   "execution_count": 48,
   "id": "75f678ef-6a62-4558-8d93-cccdf8b1761c",
   "metadata": {},
   "outputs": [
    {
     "data": {
      "text/plain": [
       "[('H', 9), (None, 1)]"
      ]
     },
     "execution_count": 48,
     "metadata": {},
     "output_type": "execute_result"
    }
   ],
   "source": [
    "counter.most_common()"
   ]
  },
  {
   "cell_type": "code",
   "execution_count": 53,
   "id": "e9d98207-45eb-476f-b37f-49962f7fbee5",
   "metadata": {},
   "outputs": [
    {
     "data": {
      "text/plain": [
       "2"
      ]
     },
     "execution_count": 53,
     "metadata": {},
     "output_type": "execute_result"
    }
   ],
   "source": [
    "len(counter)"
   ]
  },
  {
   "cell_type": "code",
   "execution_count": 62,
   "id": "43c3fe4f-c585-4ae4-a663-13f55879cfa9",
   "metadata": {},
   "outputs": [
    {
     "data": {
      "text/plain": [
       "2"
      ]
     },
     "execution_count": 62,
     "metadata": {},
     "output_type": "execute_result"
    }
   ],
   "source": [
    "7 // 3"
   ]
  },
  {
   "cell_type": "code",
   "execution_count": null,
   "id": "74016770-1b7d-4de6-9252-dd12f8cfacf5",
   "metadata": {},
   "outputs": [],
   "source": []
  }
 ],
 "metadata": {
  "kernelspec": {
   "display_name": "TIMEX",
   "language": "python",
   "name": "timex"
  },
  "language_info": {
   "codemirror_mode": {
    "name": "ipython",
    "version": 3
   },
   "file_extension": ".py",
   "mimetype": "text/x-python",
   "name": "python",
   "nbconvert_exporter": "python",
   "pygments_lexer": "ipython3",
   "version": "3.9.16"
  }
 },
 "nbformat": 4,
 "nbformat_minor": 5
}
