{
 "cells": [
  {
   "cell_type": "markdown",
   "metadata": {},
   "source": [
    "## TIMEX Configuration Dictionary\n",
    "The most important aspects of TIMEX can be configured with a simple Python dictionary (or, if you prefer, a JSON file which can be loaded at runtime).\n",
    "\n",
    "For this task, we could use a dictionary similar to this:"
   ]
  },
  {
   "cell_type": "code",
   "execution_count": 1,
   "metadata": {},
   "outputs": [],
   "source": [
    "param_config = {\n",
    "    \"activity_title\": \"ARPA pollution\",\n",
    "    \"verbose\": \"INFO\",\n",
    "    \"service\" : \"timex\",\n",
    "    \"input_parameters\": {\n",
    "        \"source_data_url\": \"../TimexDocker/dataset_examples/ARPA/ARPA-Milano.csv\",\n",
    "        \"columns_to_load_from_url\": \"Date,PM10(µg/m³),PM2.5(µg/m³),nitrogen-dioxide(µg/m³),Ozone(µg/m³),BlackCarbon(µg/m³)\",\n",
    "        \"datetime_column_name\": \"Date\",\n",
    "        \"index_column_name\": \"Date\",\n",
    "        \"frequency\": \"D\"\n",
    "    },\n",
    "    \"model_parameters\": {\n",
    "        'validation_values':15,   # Use the last 15 real values of the time-series as test data, to check the performances.\n",
    "        \"delta_training_percentage\": 30,  # Training windows are composed of the 15% of the time-series length; more about this later...\n",
    "        \"forecast_horizon\": 15,  # Predict the next 10 days.\n",
    "        \"possible_transformations\" : \"none,log_modified\",  # Try to use no transformation or a logarithmic one.\n",
    "        \"models\": \"fbprophet,seasonal_persistence\",  # Use models of class Facebook Prophet.\n",
    "        \"main_accuracy_estimator\": \"rmse\"  # Use the Mean Absolute Error as main metric to measure accuracy.\n",
    "    },\n",
    "     \"xcorr_parameters\": {\n",
    "        \"xcorr_max_lags\": 10,\n",
    "        \"xcorr_extra_regressor_threshold\": 0.0,\n",
    "        \"xcorr_mode\": \"pearson\",\n",
    "        \"xcorr_mode_target\": \"pearson\"\n",
    "    },\n",
    "    \"visualization_parameters\": {\n",
    "        \"xcorr_graph_threshold\": 0.0,\n",
    "        \"box_plot_frequency\": \"1W\"\n",
    "    }\n",
    "  \n",
    "}"
   ]
  },
  {
   "cell_type": "markdown",
   "metadata": {},
   "source": [
    "## Launch TIMEX!\n",
    "Launching TIMEX is as simple as running few lines of code. Note that this may require a minute or two..."
   ]
  },
  {
   "cell_type": "code",
   "execution_count": 2,
   "metadata": {},
   "outputs": [
    {
     "name": "stderr",
     "output_type": "stream",
     "text": [
      "/home/eks-timex/.cache/pypoetry/virtualenvs/timexseries-WUPqD0il-py3.9/lib/python3.9/site-packages/statsforecast/core.py:21: TqdmWarning: IProgress not found. Please update jupyter and ipywidgets. See https://ipywidgets.readthedocs.io/en/stable/user_install.html\n",
      "  from tqdm.autonotebook import tqdm\n"
     ]
    }
   ],
   "source": [
    "import logging\n",
    "import sys\n",
    "from timexseries.data_ingestion import ingest_timeseries\n",
    "from timexseries.data_prediction.pipeline import create_timeseries_containers\n",
    "\n",
    "logging.basicConfig(level=logging.INFO, stream=sys.stdout)\n",
    "logger = logging.getLogger(__name__)"
   ]
  },
  {
   "cell_type": "code",
   "execution_count": 3,
   "metadata": {
    "collapsed": true,
    "jupyter": {
     "outputs_hidden": true
    },
    "tags": []
   },
   "outputs": [
    {
     "name": "stdout",
     "output_type": "stream",
     "text": [
      "INFO:timexseries.data_ingestion:Starting the data ingestion phase.\n",
      "INFO:timexseries.data_ingestion:Finished the data-ingestion phase. Some stats:\n",
      "-> Number of rows: 789\n",
      "-> Number of columns: 5\n",
      "-> Column names: [' PM10(µg/m³)', 'PM2.5(µg/m³)', 'nitrogen-dioxide(µg/m³)', 'Ozone(µg/m³)', 'BlackCarbon(µg/m³)']\n",
      "-> Number of missing data: [0, 0, 0, 0, 0]\n"
     ]
    }
   ],
   "source": [
    "ingested_dataset = ingest_timeseries(param_config)"
   ]
  },
  {
   "cell_type": "code",
   "execution_count": 4,
   "metadata": {},
   "outputs": [
    {
     "name": "stdout",
     "output_type": "stream",
     "text": [
      "INFO:timexseries.data_prediction.pipeline:Computing the cross-correlation...\n",
      "max_threads: 8\n",
      "INFO:timexseries.data_prediction.pipeline:Using model fbprophet...\n",
      "INFO:timexseries.data_prediction.pipeline:Computing univariate prediction for  PM10(µg/m³) using transformation: none...\n",
      "INFO:timexseries.data_prediction.models.predictor:Creating a FBProphet model...\n",
      "INFO:timexseries.data_prediction.models.predictor:Model will use 4 different training sets...\n",
      "INFO:prophet:Disabling daily seasonality. Run prophet with daily_seasonality=True to override this.\n",
      "DEBUG:cmdstanpy:input tempfile: /tmp/tmpntz0pboj/waq9dva_.json\n",
      "DEBUG:cmdstanpy:input tempfile: /tmp/tmpntz0pboj/kmfi47ye.json\n",
      "DEBUG:cmdstanpy:idx 0\n",
      "DEBUG:cmdstanpy:running CmdStan, num_threads: None\n",
      "DEBUG:cmdstanpy:CmdStan args: ['/home/eks-timex/.cache/pypoetry/virtualenvs/timexseries-WUPqD0il-py3.9/lib64/python3.9/site-packages/prophet/stan_model/prophet_model.bin', 'random', 'seed=14671', 'data', 'file=/tmp/tmpntz0pboj/waq9dva_.json', 'init=/tmp/tmpntz0pboj/kmfi47ye.json', 'output', 'file=/tmp/tmpntz0pboj/prophet_modeldw13_015/prophet_model-20230316005650.csv', 'method=optimize', 'algorithm=lbfgs', 'iter=10000']\n"
     ]
    },
    {
     "name": "stderr",
     "output_type": "stream",
     "text": [
      "00:56:50 - cmdstanpy - INFO - Chain [1] start processing\n"
     ]
    },
    {
     "name": "stdout",
     "output_type": "stream",
     "text": [
      "INFO:cmdstanpy:Chain [1] start processing\n"
     ]
    },
    {
     "name": "stderr",
     "output_type": "stream",
     "text": [
      "00:56:50 - cmdstanpy - INFO - Chain [1] done processing\n"
     ]
    },
    {
     "name": "stdout",
     "output_type": "stream",
     "text": [
      "INFO:cmdstanpy:Chain [1] done processing\n",
      "INFO:timexseries.data_prediction.pipeline:Computing univariate prediction for  PM10(µg/m³) using transformation: log_modified...\n",
      "INFO:timexseries.data_prediction.models.predictor:Creating a FBProphet model...\n",
      "INFO:timexseries.data_prediction.models.predictor:Model will use 4 different training sets...\n",
      "INFO:prophet:Disabling yearly seasonality. Run prophet with yearly_seasonality=True to override this.\n",
      "INFO:prophet:Disabling daily seasonality. Run prophet with daily_seasonality=True to override this.\n",
      "DEBUG:cmdstanpy:input tempfile: /tmp/tmpntz0pboj/3ir3e49x.json\n",
      "DEBUG:cmdstanpy:input tempfile: /tmp/tmpntz0pboj/g_7la04t.json\n",
      "DEBUG:cmdstanpy:idx 0\n",
      "DEBUG:cmdstanpy:running CmdStan, num_threads: None\n",
      "DEBUG:cmdstanpy:CmdStan args: ['/home/eks-timex/.cache/pypoetry/virtualenvs/timexseries-WUPqD0il-py3.9/lib64/python3.9/site-packages/prophet/stan_model/prophet_model.bin', 'random', 'seed=69363', 'data', 'file=/tmp/tmpntz0pboj/3ir3e49x.json', 'init=/tmp/tmpntz0pboj/g_7la04t.json', 'output', 'file=/tmp/tmpntz0pboj/prophet_model4cmohaw1/prophet_model-20230316005650.csv', 'method=optimize', 'algorithm=lbfgs', 'iter=10000']\n"
     ]
    },
    {
     "name": "stderr",
     "output_type": "stream",
     "text": [
      "00:56:50 - cmdstanpy - INFO - Chain [1] start processing\n"
     ]
    },
    {
     "name": "stdout",
     "output_type": "stream",
     "text": [
      "INFO:cmdstanpy:Chain [1] start processing\n"
     ]
    },
    {
     "name": "stderr",
     "output_type": "stream",
     "text": [
      "00:56:50 - cmdstanpy - INFO - Chain [1] done processing\n"
     ]
    },
    {
     "name": "stdout",
     "output_type": "stream",
     "text": [
      "INFO:cmdstanpy:Chain [1] done processing\n",
      "INFO:timexseries.data_prediction.pipeline:Best transformation for  PM10(µg/m³) using fbprophet: log_modified\n",
      "INFO:timexseries.data_prediction.pipeline:Using model seasonal_persistence...\n",
      "INFO:timexseries.data_prediction.pipeline:Computing univariate prediction for  PM10(µg/m³) using transformation: none...\n",
      "INFO:timexseries.data_prediction.models.predictor:Creating a Seasonal persistence model...\n",
      "INFO:timexseries.data_prediction.models.predictor:Model will use 4 different training sets...\n",
      "INFO:timexseries.data_prediction.pipeline:Computing univariate prediction for  PM10(µg/m³) using transformation: log_modified...\n",
      "INFO:timexseries.data_prediction.models.predictor:Creating a Seasonal persistence model...\n",
      "INFO:timexseries.data_prediction.models.predictor:Model will use 4 different training sets...\n",
      "INFO:timexseries.data_prediction.pipeline:Best transformation for  PM10(µg/m³) using seasonal_persistence: none\n",
      "INFO:timexseries.data_prediction.pipeline:Using model fbprophet...\n",
      "INFO:timexseries.data_prediction.pipeline:Computing univariate prediction for PM2.5(µg/m³) using transformation: none...\n",
      "INFO:timexseries.data_prediction.models.predictor:Creating a FBProphet model...\n",
      "INFO:timexseries.data_prediction.models.predictor:Model will use 4 different training sets...\n",
      "INFO:prophet:Disabling yearly seasonality. Run prophet with yearly_seasonality=True to override this.\n",
      "INFO:prophet:Disabling daily seasonality. Run prophet with daily_seasonality=True to override this.\n",
      "DEBUG:cmdstanpy:input tempfile: /tmp/tmpntz0pboj/5pvcimyf.json\n",
      "DEBUG:cmdstanpy:input tempfile: /tmp/tmpntz0pboj/g2uet4wk.json\n",
      "DEBUG:cmdstanpy:idx 0\n",
      "DEBUG:cmdstanpy:running CmdStan, num_threads: None\n",
      "DEBUG:cmdstanpy:CmdStan args: ['/home/eks-timex/.cache/pypoetry/virtualenvs/timexseries-WUPqD0il-py3.9/lib64/python3.9/site-packages/prophet/stan_model/prophet_model.bin', 'random', 'seed=9451', 'data', 'file=/tmp/tmpntz0pboj/5pvcimyf.json', 'init=/tmp/tmpntz0pboj/g2uet4wk.json', 'output', 'file=/tmp/tmpntz0pboj/prophet_modele2uiotxw/prophet_model-20230316005659.csv', 'method=optimize', 'algorithm=lbfgs', 'iter=10000']\n"
     ]
    },
    {
     "name": "stderr",
     "output_type": "stream",
     "text": [
      "00:56:59 - cmdstanpy - INFO - Chain [1] start processing\n"
     ]
    },
    {
     "name": "stdout",
     "output_type": "stream",
     "text": [
      "INFO:cmdstanpy:Chain [1] start processing\n"
     ]
    },
    {
     "name": "stderr",
     "output_type": "stream",
     "text": [
      "00:57:00 - cmdstanpy - INFO - Chain [1] done processing\n"
     ]
    },
    {
     "name": "stdout",
     "output_type": "stream",
     "text": [
      "INFO:cmdstanpy:Chain [1] done processing\n",
      "INFO:timexseries.data_prediction.pipeline:Computing univariate prediction for PM2.5(µg/m³) using transformation: log_modified...\n",
      "INFO:timexseries.data_prediction.models.predictor:Creating a FBProphet model...\n",
      "INFO:timexseries.data_prediction.models.predictor:Model will use 4 different training sets...\n",
      "INFO:prophet:Disabling yearly seasonality. Run prophet with yearly_seasonality=True to override this.\n",
      "INFO:prophet:Disabling daily seasonality. Run prophet with daily_seasonality=True to override this.\n",
      "DEBUG:cmdstanpy:input tempfile: /tmp/tmpntz0pboj/cof_6a7i.json\n",
      "DEBUG:cmdstanpy:input tempfile: /tmp/tmpntz0pboj/v7zsabyz.json\n",
      "DEBUG:cmdstanpy:idx 0\n",
      "DEBUG:cmdstanpy:running CmdStan, num_threads: None\n",
      "DEBUG:cmdstanpy:CmdStan args: ['/home/eks-timex/.cache/pypoetry/virtualenvs/timexseries-WUPqD0il-py3.9/lib64/python3.9/site-packages/prophet/stan_model/prophet_model.bin', 'random', 'seed=54417', 'data', 'file=/tmp/tmpntz0pboj/cof_6a7i.json', 'init=/tmp/tmpntz0pboj/v7zsabyz.json', 'output', 'file=/tmp/tmpntz0pboj/prophet_model05kv7sal/prophet_model-20230316005700.csv', 'method=optimize', 'algorithm=lbfgs', 'iter=10000']\n"
     ]
    },
    {
     "name": "stderr",
     "output_type": "stream",
     "text": [
      "00:57:00 - cmdstanpy - INFO - Chain [1] start processing\n"
     ]
    },
    {
     "name": "stdout",
     "output_type": "stream",
     "text": [
      "INFO:cmdstanpy:Chain [1] start processing\n"
     ]
    },
    {
     "name": "stderr",
     "output_type": "stream",
     "text": [
      "00:57:00 - cmdstanpy - INFO - Chain [1] done processing\n"
     ]
    },
    {
     "name": "stdout",
     "output_type": "stream",
     "text": [
      "INFO:cmdstanpy:Chain [1] done processing\n",
      "INFO:timexseries.data_prediction.pipeline:Best transformation for PM2.5(µg/m³) using fbprophet: log_modified\n",
      "INFO:timexseries.data_prediction.pipeline:Using model seasonal_persistence...\n",
      "INFO:timexseries.data_prediction.pipeline:Computing univariate prediction for PM2.5(µg/m³) using transformation: none...\n",
      "INFO:timexseries.data_prediction.models.predictor:Creating a Seasonal persistence model...\n",
      "INFO:timexseries.data_prediction.models.predictor:Model will use 4 different training sets...\n",
      "INFO:timexseries.data_prediction.pipeline:Computing univariate prediction for PM2.5(µg/m³) using transformation: log_modified...\n",
      "INFO:timexseries.data_prediction.models.predictor:Creating a Seasonal persistence model...\n",
      "INFO:timexseries.data_prediction.models.predictor:Model will use 4 different training sets...\n",
      "INFO:timexseries.data_prediction.pipeline:Best transformation for PM2.5(µg/m³) using seasonal_persistence: none\n",
      "INFO:timexseries.data_prediction.pipeline:Using model fbprophet...\n",
      "INFO:timexseries.data_prediction.pipeline:Computing univariate prediction for nitrogen-dioxide(µg/m³) using transformation: none...\n",
      "INFO:timexseries.data_prediction.models.predictor:Creating a FBProphet model...\n",
      "INFO:timexseries.data_prediction.models.predictor:Model will use 4 different training sets...\n",
      "INFO:prophet:Disabling daily seasonality. Run prophet with daily_seasonality=True to override this.\n",
      "DEBUG:cmdstanpy:input tempfile: /tmp/tmpntz0pboj/lgn6dubi.json\n",
      "DEBUG:cmdstanpy:input tempfile: /tmp/tmpntz0pboj/8om49zis.json\n",
      "DEBUG:cmdstanpy:idx 0\n",
      "DEBUG:cmdstanpy:running CmdStan, num_threads: None\n",
      "DEBUG:cmdstanpy:CmdStan args: ['/home/eks-timex/.cache/pypoetry/virtualenvs/timexseries-WUPqD0il-py3.9/lib64/python3.9/site-packages/prophet/stan_model/prophet_model.bin', 'random', 'seed=96212', 'data', 'file=/tmp/tmpntz0pboj/lgn6dubi.json', 'init=/tmp/tmpntz0pboj/8om49zis.json', 'output', 'file=/tmp/tmpntz0pboj/prophet_modelthlw9m17/prophet_model-20230316005703.csv', 'method=optimize', 'algorithm=lbfgs', 'iter=10000']\n"
     ]
    },
    {
     "name": "stderr",
     "output_type": "stream",
     "text": [
      "00:57:03 - cmdstanpy - INFO - Chain [1] start processing\n"
     ]
    },
    {
     "name": "stdout",
     "output_type": "stream",
     "text": [
      "INFO:cmdstanpy:Chain [1] start processing\n"
     ]
    },
    {
     "name": "stderr",
     "output_type": "stream",
     "text": [
      "00:57:03 - cmdstanpy - INFO - Chain [1] done processing\n"
     ]
    },
    {
     "name": "stdout",
     "output_type": "stream",
     "text": [
      "INFO:cmdstanpy:Chain [1] done processing\n",
      "INFO:timexseries.data_prediction.pipeline:Computing univariate prediction for nitrogen-dioxide(µg/m³) using transformation: log_modified...\n",
      "INFO:timexseries.data_prediction.models.predictor:Creating a FBProphet model...\n",
      "INFO:timexseries.data_prediction.models.predictor:Model will use 4 different training sets...\n",
      "INFO:prophet:Disabling yearly seasonality. Run prophet with yearly_seasonality=True to override this.\n",
      "INFO:prophet:Disabling daily seasonality. Run prophet with daily_seasonality=True to override this.\n",
      "DEBUG:cmdstanpy:input tempfile: /tmp/tmpntz0pboj/_x1rvr0e.json\n",
      "DEBUG:cmdstanpy:input tempfile: /tmp/tmpntz0pboj/n7gy0292.json\n",
      "DEBUG:cmdstanpy:idx 0\n",
      "DEBUG:cmdstanpy:running CmdStan, num_threads: None\n",
      "DEBUG:cmdstanpy:CmdStan args: ['/home/eks-timex/.cache/pypoetry/virtualenvs/timexseries-WUPqD0il-py3.9/lib64/python3.9/site-packages/prophet/stan_model/prophet_model.bin', 'random', 'seed=36936', 'data', 'file=/tmp/tmpntz0pboj/_x1rvr0e.json', 'init=/tmp/tmpntz0pboj/n7gy0292.json', 'output', 'file=/tmp/tmpntz0pboj/prophet_modelmwd9fyu2/prophet_model-20230316005704.csv', 'method=optimize', 'algorithm=lbfgs', 'iter=10000']\n"
     ]
    },
    {
     "name": "stderr",
     "output_type": "stream",
     "text": [
      "00:57:04 - cmdstanpy - INFO - Chain [1] start processing\n"
     ]
    },
    {
     "name": "stdout",
     "output_type": "stream",
     "text": [
      "INFO:cmdstanpy:Chain [1] start processing\n"
     ]
    },
    {
     "name": "stderr",
     "output_type": "stream",
     "text": [
      "00:57:04 - cmdstanpy - INFO - Chain [1] done processing\n"
     ]
    },
    {
     "name": "stdout",
     "output_type": "stream",
     "text": [
      "INFO:cmdstanpy:Chain [1] done processing\n",
      "INFO:timexseries.data_prediction.pipeline:Best transformation for nitrogen-dioxide(µg/m³) using fbprophet: log_modified\n",
      "INFO:timexseries.data_prediction.pipeline:Using model seasonal_persistence...\n",
      "INFO:timexseries.data_prediction.pipeline:Computing univariate prediction for nitrogen-dioxide(µg/m³) using transformation: none...\n",
      "INFO:timexseries.data_prediction.models.predictor:Creating a Seasonal persistence model...\n",
      "INFO:timexseries.data_prediction.models.predictor:Model will use 4 different training sets...\n",
      "INFO:timexseries.data_prediction.pipeline:Computing univariate prediction for nitrogen-dioxide(µg/m³) using transformation: log_modified...\n",
      "INFO:timexseries.data_prediction.models.predictor:Creating a Seasonal persistence model...\n",
      "INFO:timexseries.data_prediction.models.predictor:Model will use 4 different training sets...\n",
      "INFO:timexseries.data_prediction.pipeline:Best transformation for nitrogen-dioxide(µg/m³) using seasonal_persistence: none\n",
      "INFO:timexseries.data_prediction.pipeline:Using model fbprophet...\n",
      "INFO:timexseries.data_prediction.pipeline:Computing univariate prediction for Ozone(µg/m³) using transformation: none...\n",
      "INFO:timexseries.data_prediction.models.predictor:Creating a FBProphet model...\n",
      "INFO:timexseries.data_prediction.models.predictor:Model will use 4 different training sets...\n",
      "INFO:prophet:Disabling daily seasonality. Run prophet with daily_seasonality=True to override this.\n",
      "DEBUG:cmdstanpy:input tempfile: /tmp/tmpntz0pboj/7fbazi6q.json\n",
      "DEBUG:cmdstanpy:input tempfile: /tmp/tmpntz0pboj/8j1_i0sz.json\n",
      "DEBUG:cmdstanpy:idx 0\n",
      "DEBUG:cmdstanpy:running CmdStan, num_threads: None\n",
      "DEBUG:cmdstanpy:CmdStan args: ['/home/eks-timex/.cache/pypoetry/virtualenvs/timexseries-WUPqD0il-py3.9/lib64/python3.9/site-packages/prophet/stan_model/prophet_model.bin', 'random', 'seed=3430', 'data', 'file=/tmp/tmpntz0pboj/7fbazi6q.json', 'init=/tmp/tmpntz0pboj/8j1_i0sz.json', 'output', 'file=/tmp/tmpntz0pboj/prophet_modelni83aig1/prophet_model-20230316005707.csv', 'method=optimize', 'algorithm=lbfgs', 'iter=10000']\n"
     ]
    },
    {
     "name": "stderr",
     "output_type": "stream",
     "text": [
      "00:57:07 - cmdstanpy - INFO - Chain [1] start processing\n"
     ]
    },
    {
     "name": "stdout",
     "output_type": "stream",
     "text": [
      "INFO:cmdstanpy:Chain [1] start processing\n"
     ]
    },
    {
     "name": "stderr",
     "output_type": "stream",
     "text": [
      "00:57:07 - cmdstanpy - INFO - Chain [1] done processing\n"
     ]
    },
    {
     "name": "stdout",
     "output_type": "stream",
     "text": [
      "INFO:cmdstanpy:Chain [1] done processing\n",
      "INFO:timexseries.data_prediction.pipeline:Computing univariate prediction for Ozone(µg/m³) using transformation: log_modified...\n",
      "INFO:timexseries.data_prediction.models.predictor:Creating a FBProphet model...\n",
      "INFO:timexseries.data_prediction.models.predictor:Model will use 4 different training sets...\n",
      "INFO:prophet:Disabling daily seasonality. Run prophet with daily_seasonality=True to override this.\n",
      "DEBUG:cmdstanpy:input tempfile: /tmp/tmpntz0pboj/4z16fghd.json\n",
      "DEBUG:cmdstanpy:input tempfile: /tmp/tmpntz0pboj/0k702tfm.json\n",
      "DEBUG:cmdstanpy:idx 0\n",
      "DEBUG:cmdstanpy:running CmdStan, num_threads: None\n",
      "DEBUG:cmdstanpy:CmdStan args: ['/home/eks-timex/.cache/pypoetry/virtualenvs/timexseries-WUPqD0il-py3.9/lib64/python3.9/site-packages/prophet/stan_model/prophet_model.bin', 'random', 'seed=71782', 'data', 'file=/tmp/tmpntz0pboj/4z16fghd.json', 'init=/tmp/tmpntz0pboj/0k702tfm.json', 'output', 'file=/tmp/tmpntz0pboj/prophet_modelfldyuypy/prophet_model-20230316005708.csv', 'method=optimize', 'algorithm=lbfgs', 'iter=10000']\n"
     ]
    },
    {
     "name": "stderr",
     "output_type": "stream",
     "text": [
      "00:57:08 - cmdstanpy - INFO - Chain [1] start processing\n"
     ]
    },
    {
     "name": "stdout",
     "output_type": "stream",
     "text": [
      "INFO:cmdstanpy:Chain [1] start processing\n"
     ]
    },
    {
     "name": "stderr",
     "output_type": "stream",
     "text": [
      "00:57:08 - cmdstanpy - INFO - Chain [1] done processing\n"
     ]
    },
    {
     "name": "stdout",
     "output_type": "stream",
     "text": [
      "INFO:cmdstanpy:Chain [1] done processing\n",
      "INFO:timexseries.data_prediction.pipeline:Best transformation for Ozone(µg/m³) using fbprophet: log_modified\n",
      "INFO:timexseries.data_prediction.pipeline:Using model seasonal_persistence...\n",
      "INFO:timexseries.data_prediction.pipeline:Computing univariate prediction for Ozone(µg/m³) using transformation: none...\n",
      "INFO:timexseries.data_prediction.models.predictor:Creating a Seasonal persistence model...\n",
      "INFO:timexseries.data_prediction.models.predictor:Model will use 4 different training sets...\n",
      "INFO:timexseries.data_prediction.pipeline:Computing univariate prediction for Ozone(µg/m³) using transformation: log_modified...\n",
      "INFO:timexseries.data_prediction.models.predictor:Creating a Seasonal persistence model...\n",
      "INFO:timexseries.data_prediction.models.predictor:Model will use 4 different training sets...\n",
      "INFO:timexseries.data_prediction.pipeline:Best transformation for Ozone(µg/m³) using seasonal_persistence: log_modified\n",
      "INFO:timexseries.data_prediction.pipeline:Using model fbprophet...\n",
      "INFO:timexseries.data_prediction.pipeline:Computing univariate prediction for BlackCarbon(µg/m³) using transformation: none...\n",
      "INFO:timexseries.data_prediction.models.predictor:Creating a FBProphet model...\n",
      "INFO:timexseries.data_prediction.models.predictor:Model will use 4 different training sets...\n",
      "INFO:prophet:Disabling daily seasonality. Run prophet with daily_seasonality=True to override this.\n",
      "DEBUG:cmdstanpy:input tempfile: /tmp/tmpntz0pboj/s827jzom.json\n",
      "DEBUG:cmdstanpy:input tempfile: /tmp/tmpntz0pboj/jflr_uar.json\n",
      "DEBUG:cmdstanpy:idx 0\n",
      "DEBUG:cmdstanpy:running CmdStan, num_threads: None\n",
      "DEBUG:cmdstanpy:CmdStan args: ['/home/eks-timex/.cache/pypoetry/virtualenvs/timexseries-WUPqD0il-py3.9/lib64/python3.9/site-packages/prophet/stan_model/prophet_model.bin', 'random', 'seed=85262', 'data', 'file=/tmp/tmpntz0pboj/s827jzom.json', 'init=/tmp/tmpntz0pboj/jflr_uar.json', 'output', 'file=/tmp/tmpntz0pboj/prophet_modelhl6dshnq/prophet_model-20230316005710.csv', 'method=optimize', 'algorithm=lbfgs', 'iter=10000']\n"
     ]
    },
    {
     "name": "stderr",
     "output_type": "stream",
     "text": [
      "00:57:10 - cmdstanpy - INFO - Chain [1] start processing\n"
     ]
    },
    {
     "name": "stdout",
     "output_type": "stream",
     "text": [
      "INFO:cmdstanpy:Chain [1] start processing\n"
     ]
    },
    {
     "name": "stderr",
     "output_type": "stream",
     "text": [
      "00:57:10 - cmdstanpy - INFO - Chain [1] done processing\n"
     ]
    },
    {
     "name": "stdout",
     "output_type": "stream",
     "text": [
      "INFO:cmdstanpy:Chain [1] done processing\n",
      "INFO:timexseries.data_prediction.pipeline:Computing univariate prediction for BlackCarbon(µg/m³) using transformation: log_modified...\n",
      "INFO:timexseries.data_prediction.models.predictor:Creating a FBProphet model...\n",
      "INFO:timexseries.data_prediction.models.predictor:Model will use 4 different training sets...\n",
      "INFO:prophet:Disabling yearly seasonality. Run prophet with yearly_seasonality=True to override this.\n",
      "INFO:prophet:Disabling daily seasonality. Run prophet with daily_seasonality=True to override this.\n",
      "DEBUG:cmdstanpy:input tempfile: /tmp/tmpntz0pboj/psieqp85.json\n",
      "DEBUG:cmdstanpy:input tempfile: /tmp/tmpntz0pboj/sh1tmzep.json\n",
      "DEBUG:cmdstanpy:idx 0\n",
      "DEBUG:cmdstanpy:running CmdStan, num_threads: None\n",
      "DEBUG:cmdstanpy:CmdStan args: ['/home/eks-timex/.cache/pypoetry/virtualenvs/timexseries-WUPqD0il-py3.9/lib64/python3.9/site-packages/prophet/stan_model/prophet_model.bin', 'random', 'seed=78921', 'data', 'file=/tmp/tmpntz0pboj/psieqp85.json', 'init=/tmp/tmpntz0pboj/sh1tmzep.json', 'output', 'file=/tmp/tmpntz0pboj/prophet_modelkzzahbyr/prophet_model-20230316005711.csv', 'method=optimize', 'algorithm=lbfgs', 'iter=10000']\n"
     ]
    },
    {
     "name": "stderr",
     "output_type": "stream",
     "text": [
      "00:57:11 - cmdstanpy - INFO - Chain [1] start processing\n"
     ]
    },
    {
     "name": "stdout",
     "output_type": "stream",
     "text": [
      "INFO:cmdstanpy:Chain [1] start processing\n"
     ]
    },
    {
     "name": "stderr",
     "output_type": "stream",
     "text": [
      "00:57:11 - cmdstanpy - INFO - Chain [1] done processing\n"
     ]
    },
    {
     "name": "stdout",
     "output_type": "stream",
     "text": [
      "INFO:cmdstanpy:Chain [1] done processing\n",
      "INFO:timexseries.data_prediction.pipeline:Best transformation for BlackCarbon(µg/m³) using fbprophet: log_modified\n",
      "INFO:timexseries.data_prediction.pipeline:Using model seasonal_persistence...\n",
      "INFO:timexseries.data_prediction.pipeline:Computing univariate prediction for BlackCarbon(µg/m³) using transformation: none...\n",
      "INFO:timexseries.data_prediction.models.predictor:Creating a Seasonal persistence model...\n",
      "INFO:timexseries.data_prediction.models.predictor:Model will use 4 different training sets...\n",
      "INFO:timexseries.data_prediction.pipeline:Computing univariate prediction for BlackCarbon(µg/m³) using transformation: log_modified...\n",
      "INFO:timexseries.data_prediction.models.predictor:Creating a Seasonal persistence model...\n",
      "INFO:timexseries.data_prediction.models.predictor:Model will use 4 different training sets...\n",
      "INFO:timexseries.data_prediction.pipeline:Best transformation for BlackCarbon(µg/m³) using seasonal_persistence: log_modified\n",
      "INFO:timexseries.data_prediction.pipeline:Checking optimal predictions with model fbprophet\n",
      "INFO:timexseries.data_prediction.pipeline:-> Found the optimal prediction for only 0\n",
      "INFO:timexseries.data_prediction.pipeline:Found useful extra-regressors: Index(['PM2.5(µg/m³)', 'nitrogen-dioxide(µg/m³)', 'Ozone(µg/m³)',\n",
      "       'BlackCarbon(µg/m³)'],\n",
      "      dtype='object'). Re-compute the prediction for  PM10(µg/m³)\n",
      "INFO:timexseries.data_prediction.models.predictor:Creating a FBProphet model...\n",
      "INFO:timexseries.data_prediction.models.predictor:Model will use 4 different training sets...\n",
      "INFO:prophet:Disabling daily seasonality. Run prophet with daily_seasonality=True to override this.\n",
      "DEBUG:cmdstanpy:input tempfile: /tmp/tmpntz0pboj/rj8t1hrk.json\n",
      "DEBUG:cmdstanpy:input tempfile: /tmp/tmpntz0pboj/w5jx164_.json\n",
      "DEBUG:cmdstanpy:idx 0\n",
      "DEBUG:cmdstanpy:running CmdStan, num_threads: None\n",
      "DEBUG:cmdstanpy:CmdStan args: ['/home/eks-timex/.cache/pypoetry/virtualenvs/timexseries-WUPqD0il-py3.9/lib64/python3.9/site-packages/prophet/stan_model/prophet_model.bin', 'random', 'seed=45933', 'data', 'file=/tmp/tmpntz0pboj/rj8t1hrk.json', 'init=/tmp/tmpntz0pboj/w5jx164_.json', 'output', 'file=/tmp/tmpntz0pboj/prophet_modeljoqoy8wc/prophet_model-20230316005713.csv', 'method=optimize', 'algorithm=lbfgs', 'iter=10000']\n"
     ]
    },
    {
     "name": "stderr",
     "output_type": "stream",
     "text": [
      "00:57:13 - cmdstanpy - INFO - Chain [1] start processing\n"
     ]
    },
    {
     "name": "stdout",
     "output_type": "stream",
     "text": [
      "INFO:cmdstanpy:Chain [1] start processing\n"
     ]
    },
    {
     "name": "stderr",
     "output_type": "stream",
     "text": [
      "00:57:13 - cmdstanpy - INFO - Chain [1] done processing\n"
     ]
    },
    {
     "name": "stdout",
     "output_type": "stream",
     "text": [
      "INFO:cmdstanpy:Chain [1] done processing\n",
      "INFO:timexseries.data_prediction.pipeline:Obtained a better error: 5.534983472616119 vs old 23.29798680794353\n",
      "INFO:timexseries.data_prediction.pipeline:Found useful extra-regressors: Index([' PM10(µg/m³)', 'nitrogen-dioxide(µg/m³)', 'Ozone(µg/m³)',\n",
      "       'BlackCarbon(µg/m³)'],\n",
      "      dtype='object'). Re-compute the prediction for PM2.5(µg/m³)\n",
      "INFO:timexseries.data_prediction.models.predictor:Creating a FBProphet model...\n",
      "INFO:timexseries.data_prediction.models.predictor:Model will use 4 different training sets...\n",
      "INFO:prophet:Disabling daily seasonality. Run prophet with daily_seasonality=True to override this.\n",
      "DEBUG:cmdstanpy:input tempfile: /tmp/tmpntz0pboj/1jbgnfs7.json\n",
      "DEBUG:cmdstanpy:input tempfile: /tmp/tmpntz0pboj/qqfw_5ct.json\n",
      "DEBUG:cmdstanpy:idx 0\n",
      "DEBUG:cmdstanpy:running CmdStan, num_threads: None\n",
      "DEBUG:cmdstanpy:CmdStan args: ['/home/eks-timex/.cache/pypoetry/virtualenvs/timexseries-WUPqD0il-py3.9/lib64/python3.9/site-packages/prophet/stan_model/prophet_model.bin', 'random', 'seed=59314', 'data', 'file=/tmp/tmpntz0pboj/1jbgnfs7.json', 'init=/tmp/tmpntz0pboj/qqfw_5ct.json', 'output', 'file=/tmp/tmpntz0pboj/prophet_modelg2m_ih4g/prophet_model-20230316005714.csv', 'method=optimize', 'algorithm=lbfgs', 'iter=10000']\n"
     ]
    },
    {
     "name": "stderr",
     "output_type": "stream",
     "text": [
      "00:57:14 - cmdstanpy - INFO - Chain [1] start processing\n"
     ]
    },
    {
     "name": "stdout",
     "output_type": "stream",
     "text": [
      "INFO:cmdstanpy:Chain [1] start processing\n"
     ]
    },
    {
     "name": "stderr",
     "output_type": "stream",
     "text": [
      "00:57:14 - cmdstanpy - INFO - Chain [1] done processing\n"
     ]
    },
    {
     "name": "stdout",
     "output_type": "stream",
     "text": [
      "INFO:cmdstanpy:Chain [1] done processing\n",
      "INFO:timexseries.data_prediction.pipeline:Obtained a better error: 2.092580656598682 vs old 14.478604087488606\n",
      "INFO:timexseries.data_prediction.pipeline:Found useful extra-regressors: Index([' PM10(µg/m³)', 'PM2.5(µg/m³)', 'Ozone(µg/m³)', 'BlackCarbon(µg/m³)'], dtype='object'). Re-compute the prediction for nitrogen-dioxide(µg/m³)\n",
      "INFO:timexseries.data_prediction.models.predictor:Creating a FBProphet model...\n",
      "INFO:timexseries.data_prediction.models.predictor:Model will use 4 different training sets...\n",
      "INFO:prophet:Disabling daily seasonality. Run prophet with daily_seasonality=True to override this.\n",
      "DEBUG:cmdstanpy:input tempfile: /tmp/tmpntz0pboj/3la5kjyz.json\n",
      "DEBUG:cmdstanpy:input tempfile: /tmp/tmpntz0pboj/xciq3gq0.json\n",
      "DEBUG:cmdstanpy:idx 0\n",
      "DEBUG:cmdstanpy:running CmdStan, num_threads: None\n",
      "DEBUG:cmdstanpy:CmdStan args: ['/home/eks-timex/.cache/pypoetry/virtualenvs/timexseries-WUPqD0il-py3.9/lib64/python3.9/site-packages/prophet/stan_model/prophet_model.bin', 'random', 'seed=38967', 'data', 'file=/tmp/tmpntz0pboj/3la5kjyz.json', 'init=/tmp/tmpntz0pboj/xciq3gq0.json', 'output', 'file=/tmp/tmpntz0pboj/prophet_modelzvcwb24v/prophet_model-20230316005715.csv', 'method=optimize', 'algorithm=lbfgs', 'iter=10000']\n"
     ]
    },
    {
     "name": "stderr",
     "output_type": "stream",
     "text": [
      "00:57:15 - cmdstanpy - INFO - Chain [1] start processing\n"
     ]
    },
    {
     "name": "stdout",
     "output_type": "stream",
     "text": [
      "INFO:cmdstanpy:Chain [1] start processing\n"
     ]
    },
    {
     "name": "stderr",
     "output_type": "stream",
     "text": [
      "00:57:15 - cmdstanpy - INFO - Chain [1] done processing\n"
     ]
    },
    {
     "name": "stdout",
     "output_type": "stream",
     "text": [
      "INFO:cmdstanpy:Chain [1] done processing\n",
      "INFO:timexseries.data_prediction.pipeline:Obtained a better error: 4.204266074270219 vs old 11.66024800588429\n",
      "INFO:timexseries.data_prediction.pipeline:Found useful extra-regressors: Index([' PM10(µg/m³)', 'PM2.5(µg/m³)', 'nitrogen-dioxide(µg/m³)',\n",
      "       'BlackCarbon(µg/m³)'],\n",
      "      dtype='object'). Re-compute the prediction for Ozone(µg/m³)\n",
      "INFO:timexseries.data_prediction.models.predictor:Creating a FBProphet model...\n",
      "INFO:timexseries.data_prediction.models.predictor:Model will use 4 different training sets...\n",
      "INFO:prophet:Disabling daily seasonality. Run prophet with daily_seasonality=True to override this.\n",
      "DEBUG:cmdstanpy:input tempfile: /tmp/tmpntz0pboj/obot7ghh.json\n",
      "DEBUG:cmdstanpy:input tempfile: /tmp/tmpntz0pboj/in1zx0b1.json\n",
      "DEBUG:cmdstanpy:idx 0\n",
      "DEBUG:cmdstanpy:running CmdStan, num_threads: None\n",
      "DEBUG:cmdstanpy:CmdStan args: ['/home/eks-timex/.cache/pypoetry/virtualenvs/timexseries-WUPqD0il-py3.9/lib64/python3.9/site-packages/prophet/stan_model/prophet_model.bin', 'random', 'seed=90550', 'data', 'file=/tmp/tmpntz0pboj/obot7ghh.json', 'init=/tmp/tmpntz0pboj/in1zx0b1.json', 'output', 'file=/tmp/tmpntz0pboj/prophet_modelnwiiq241/prophet_model-20230316005716.csv', 'method=optimize', 'algorithm=lbfgs', 'iter=10000']\n"
     ]
    },
    {
     "name": "stderr",
     "output_type": "stream",
     "text": [
      "00:57:16 - cmdstanpy - INFO - Chain [1] start processing\n"
     ]
    },
    {
     "name": "stdout",
     "output_type": "stream",
     "text": [
      "INFO:cmdstanpy:Chain [1] start processing\n"
     ]
    },
    {
     "name": "stderr",
     "output_type": "stream",
     "text": [
      "00:57:16 - cmdstanpy - INFO - Chain [1] done processing\n"
     ]
    },
    {
     "name": "stdout",
     "output_type": "stream",
     "text": [
      "INFO:cmdstanpy:Chain [1] done processing\n",
      "INFO:timexseries.data_prediction.pipeline:No improvements.\n",
      "INFO:timexseries.data_prediction.pipeline:Found useful extra-regressors: Index([' PM10(µg/m³)', 'PM2.5(µg/m³)', 'nitrogen-dioxide(µg/m³)',\n",
      "       'Ozone(µg/m³)'],\n",
      "      dtype='object'). Re-compute the prediction for BlackCarbon(µg/m³)\n",
      "INFO:timexseries.data_prediction.models.predictor:Creating a FBProphet model...\n",
      "INFO:timexseries.data_prediction.models.predictor:Model will use 4 different training sets...\n",
      "INFO:prophet:Disabling daily seasonality. Run prophet with daily_seasonality=True to override this.\n",
      "DEBUG:cmdstanpy:input tempfile: /tmp/tmpntz0pboj/d_za_jhi.json\n",
      "DEBUG:cmdstanpy:input tempfile: /tmp/tmpntz0pboj/f_69ryii.json\n",
      "DEBUG:cmdstanpy:idx 0\n",
      "DEBUG:cmdstanpy:running CmdStan, num_threads: None\n",
      "DEBUG:cmdstanpy:CmdStan args: ['/home/eks-timex/.cache/pypoetry/virtualenvs/timexseries-WUPqD0il-py3.9/lib64/python3.9/site-packages/prophet/stan_model/prophet_model.bin', 'random', 'seed=62173', 'data', 'file=/tmp/tmpntz0pboj/d_za_jhi.json', 'init=/tmp/tmpntz0pboj/f_69ryii.json', 'output', 'file=/tmp/tmpntz0pboj/prophet_model1tqwoh72/prophet_model-20230316005717.csv', 'method=optimize', 'algorithm=lbfgs', 'iter=10000']\n"
     ]
    },
    {
     "name": "stderr",
     "output_type": "stream",
     "text": [
      "00:57:17 - cmdstanpy - INFO - Chain [1] start processing\n"
     ]
    },
    {
     "name": "stdout",
     "output_type": "stream",
     "text": [
      "INFO:cmdstanpy:Chain [1] start processing\n"
     ]
    },
    {
     "name": "stderr",
     "output_type": "stream",
     "text": [
      "00:57:17 - cmdstanpy - INFO - Chain [1] done processing\n"
     ]
    },
    {
     "name": "stdout",
     "output_type": "stream",
     "text": [
      "INFO:cmdstanpy:Chain [1] done processing\n",
      "INFO:timexseries.data_prediction.pipeline:Obtained a better error: 0.49972369161453667 vs old 1.4012647657404513\n",
      "INFO:timexseries.data_prediction.pipeline:-> Found the optimal prediction for only 1\n",
      "INFO:timexseries.data_prediction.pipeline:Found useful extra-regressors: Index(['PM2.5(µg/m³)', 'nitrogen-dioxide(µg/m³)', 'Ozone(µg/m³)',\n",
      "       'BlackCarbon(µg/m³)'],\n",
      "      dtype='object'). Re-compute the prediction for  PM10(µg/m³)\n",
      "INFO:timexseries.data_prediction.models.predictor:Creating a FBProphet model...\n",
      "INFO:timexseries.data_prediction.models.predictor:Model will use 4 different training sets...\n",
      "INFO:prophet:Disabling daily seasonality. Run prophet with daily_seasonality=True to override this.\n",
      "DEBUG:cmdstanpy:input tempfile: /tmp/tmpntz0pboj/m_9yw2x6.json\n",
      "DEBUG:cmdstanpy:input tempfile: /tmp/tmpntz0pboj/fz66e66w.json\n",
      "DEBUG:cmdstanpy:idx 0\n",
      "DEBUG:cmdstanpy:running CmdStan, num_threads: None\n",
      "DEBUG:cmdstanpy:CmdStan args: ['/home/eks-timex/.cache/pypoetry/virtualenvs/timexseries-WUPqD0il-py3.9/lib64/python3.9/site-packages/prophet/stan_model/prophet_model.bin', 'random', 'seed=38314', 'data', 'file=/tmp/tmpntz0pboj/m_9yw2x6.json', 'init=/tmp/tmpntz0pboj/fz66e66w.json', 'output', 'file=/tmp/tmpntz0pboj/prophet_modelc5h3j80e/prophet_model-20230316005718.csv', 'method=optimize', 'algorithm=lbfgs', 'iter=10000']\n"
     ]
    },
    {
     "name": "stderr",
     "output_type": "stream",
     "text": [
      "00:57:18 - cmdstanpy - INFO - Chain [1] start processing\n"
     ]
    },
    {
     "name": "stdout",
     "output_type": "stream",
     "text": [
      "INFO:cmdstanpy:Chain [1] start processing\n"
     ]
    },
    {
     "name": "stderr",
     "output_type": "stream",
     "text": [
      "00:57:18 - cmdstanpy - INFO - Chain [1] done processing\n"
     ]
    },
    {
     "name": "stdout",
     "output_type": "stream",
     "text": [
      "INFO:cmdstanpy:Chain [1] done processing\n",
      "INFO:timexseries.data_prediction.pipeline:No improvements.\n",
      "INFO:timexseries.data_prediction.pipeline:Found useful extra-regressors: Index([' PM10(µg/m³)', 'nitrogen-dioxide(µg/m³)', 'Ozone(µg/m³)',\n",
      "       'BlackCarbon(µg/m³)'],\n",
      "      dtype='object'). Re-compute the prediction for PM2.5(µg/m³)\n",
      "INFO:timexseries.data_prediction.models.predictor:Creating a FBProphet model...\n",
      "INFO:timexseries.data_prediction.models.predictor:Model will use 4 different training sets...\n",
      "INFO:prophet:Disabling daily seasonality. Run prophet with daily_seasonality=True to override this.\n",
      "DEBUG:cmdstanpy:input tempfile: /tmp/tmpntz0pboj/dv_ofxvh.json\n",
      "DEBUG:cmdstanpy:input tempfile: /tmp/tmpntz0pboj/uill7w1h.json\n",
      "DEBUG:cmdstanpy:idx 0\n",
      "DEBUG:cmdstanpy:running CmdStan, num_threads: None\n",
      "DEBUG:cmdstanpy:CmdStan args: ['/home/eks-timex/.cache/pypoetry/virtualenvs/timexseries-WUPqD0il-py3.9/lib64/python3.9/site-packages/prophet/stan_model/prophet_model.bin', 'random', 'seed=87154', 'data', 'file=/tmp/tmpntz0pboj/dv_ofxvh.json', 'init=/tmp/tmpntz0pboj/uill7w1h.json', 'output', 'file=/tmp/tmpntz0pboj/prophet_modelfib8csrc/prophet_model-20230316005720.csv', 'method=optimize', 'algorithm=lbfgs', 'iter=10000']\n"
     ]
    },
    {
     "name": "stderr",
     "output_type": "stream",
     "text": [
      "00:57:20 - cmdstanpy - INFO - Chain [1] start processing\n"
     ]
    },
    {
     "name": "stdout",
     "output_type": "stream",
     "text": [
      "INFO:cmdstanpy:Chain [1] start processing\n"
     ]
    },
    {
     "name": "stderr",
     "output_type": "stream",
     "text": [
      "00:57:20 - cmdstanpy - INFO - Chain [1] done processing\n"
     ]
    },
    {
     "name": "stdout",
     "output_type": "stream",
     "text": [
      "INFO:cmdstanpy:Chain [1] done processing\n",
      "INFO:timexseries.data_prediction.pipeline:No improvements.\n",
      "INFO:timexseries.data_prediction.pipeline:Found useful extra-regressors: Index([' PM10(µg/m³)', 'PM2.5(µg/m³)', 'Ozone(µg/m³)', 'BlackCarbon(µg/m³)'], dtype='object'). Re-compute the prediction for nitrogen-dioxide(µg/m³)\n",
      "INFO:timexseries.data_prediction.models.predictor:Creating a FBProphet model...\n",
      "INFO:timexseries.data_prediction.models.predictor:Model will use 4 different training sets...\n",
      "INFO:prophet:Disabling daily seasonality. Run prophet with daily_seasonality=True to override this.\n",
      "DEBUG:cmdstanpy:input tempfile: /tmp/tmpntz0pboj/63u6a0vt.json\n",
      "DEBUG:cmdstanpy:input tempfile: /tmp/tmpntz0pboj/5ux2uujs.json\n",
      "DEBUG:cmdstanpy:idx 0\n",
      "DEBUG:cmdstanpy:running CmdStan, num_threads: None\n",
      "DEBUG:cmdstanpy:CmdStan args: ['/home/eks-timex/.cache/pypoetry/virtualenvs/timexseries-WUPqD0il-py3.9/lib64/python3.9/site-packages/prophet/stan_model/prophet_model.bin', 'random', 'seed=91767', 'data', 'file=/tmp/tmpntz0pboj/63u6a0vt.json', 'init=/tmp/tmpntz0pboj/5ux2uujs.json', 'output', 'file=/tmp/tmpntz0pboj/prophet_modelxjqscvzs/prophet_model-20230316005721.csv', 'method=optimize', 'algorithm=lbfgs', 'iter=10000']\n"
     ]
    },
    {
     "name": "stderr",
     "output_type": "stream",
     "text": [
      "00:57:21 - cmdstanpy - INFO - Chain [1] start processing\n"
     ]
    },
    {
     "name": "stdout",
     "output_type": "stream",
     "text": [
      "INFO:cmdstanpy:Chain [1] start processing\n"
     ]
    },
    {
     "name": "stderr",
     "output_type": "stream",
     "text": [
      "00:57:21 - cmdstanpy - INFO - Chain [1] done processing\n"
     ]
    },
    {
     "name": "stdout",
     "output_type": "stream",
     "text": [
      "INFO:cmdstanpy:Chain [1] done processing\n",
      "INFO:timexseries.data_prediction.pipeline:No improvements.\n",
      "INFO:timexseries.data_prediction.pipeline:Found useful extra-regressors: Index([' PM10(µg/m³)', 'PM2.5(µg/m³)', 'nitrogen-dioxide(µg/m³)',\n",
      "       'BlackCarbon(µg/m³)'],\n",
      "      dtype='object'). Re-compute the prediction for Ozone(µg/m³)\n",
      "INFO:timexseries.data_prediction.models.predictor:Creating a FBProphet model...\n",
      "INFO:timexseries.data_prediction.models.predictor:Model will use 4 different training sets...\n",
      "INFO:prophet:Disabling daily seasonality. Run prophet with daily_seasonality=True to override this.\n",
      "DEBUG:cmdstanpy:input tempfile: /tmp/tmpntz0pboj/2zhdwdly.json\n",
      "DEBUG:cmdstanpy:input tempfile: /tmp/tmpntz0pboj/lplf6fi4.json\n",
      "DEBUG:cmdstanpy:idx 0\n",
      "DEBUG:cmdstanpy:running CmdStan, num_threads: None\n",
      "DEBUG:cmdstanpy:CmdStan args: ['/home/eks-timex/.cache/pypoetry/virtualenvs/timexseries-WUPqD0il-py3.9/lib64/python3.9/site-packages/prophet/stan_model/prophet_model.bin', 'random', 'seed=17874', 'data', 'file=/tmp/tmpntz0pboj/2zhdwdly.json', 'init=/tmp/tmpntz0pboj/lplf6fi4.json', 'output', 'file=/tmp/tmpntz0pboj/prophet_modelm34i4kc8/prophet_model-20230316005722.csv', 'method=optimize', 'algorithm=lbfgs', 'iter=10000']\n"
     ]
    },
    {
     "name": "stderr",
     "output_type": "stream",
     "text": [
      "00:57:22 - cmdstanpy - INFO - Chain [1] start processing\n"
     ]
    },
    {
     "name": "stdout",
     "output_type": "stream",
     "text": [
      "INFO:cmdstanpy:Chain [1] start processing\n"
     ]
    },
    {
     "name": "stderr",
     "output_type": "stream",
     "text": [
      "00:57:22 - cmdstanpy - INFO - Chain [1] done processing\n"
     ]
    },
    {
     "name": "stdout",
     "output_type": "stream",
     "text": [
      "INFO:cmdstanpy:Chain [1] done processing\n",
      "INFO:timexseries.data_prediction.pipeline:No improvements.\n",
      "INFO:timexseries.data_prediction.pipeline:Found useful extra-regressors: Index([' PM10(µg/m³)', 'PM2.5(µg/m³)', 'nitrogen-dioxide(µg/m³)',\n",
      "       'Ozone(µg/m³)'],\n",
      "      dtype='object'). Re-compute the prediction for BlackCarbon(µg/m³)\n",
      "INFO:timexseries.data_prediction.models.predictor:Creating a FBProphet model...\n",
      "INFO:timexseries.data_prediction.models.predictor:Model will use 4 different training sets...\n",
      "INFO:prophet:Disabling daily seasonality. Run prophet with daily_seasonality=True to override this.\n",
      "DEBUG:cmdstanpy:input tempfile: /tmp/tmpntz0pboj/bu4igdk6.json\n",
      "DEBUG:cmdstanpy:input tempfile: /tmp/tmpntz0pboj/npr2czgy.json\n",
      "DEBUG:cmdstanpy:idx 0\n",
      "DEBUG:cmdstanpy:running CmdStan, num_threads: None\n",
      "DEBUG:cmdstanpy:CmdStan args: ['/home/eks-timex/.cache/pypoetry/virtualenvs/timexseries-WUPqD0il-py3.9/lib64/python3.9/site-packages/prophet/stan_model/prophet_model.bin', 'random', 'seed=25958', 'data', 'file=/tmp/tmpntz0pboj/bu4igdk6.json', 'init=/tmp/tmpntz0pboj/npr2czgy.json', 'output', 'file=/tmp/tmpntz0pboj/prophet_modelii_of1nk/prophet_model-20230316005723.csv', 'method=optimize', 'algorithm=lbfgs', 'iter=10000']\n"
     ]
    },
    {
     "name": "stderr",
     "output_type": "stream",
     "text": [
      "00:57:23 - cmdstanpy - INFO - Chain [1] start processing\n"
     ]
    },
    {
     "name": "stdout",
     "output_type": "stream",
     "text": [
      "INFO:cmdstanpy:Chain [1] start processing\n"
     ]
    },
    {
     "name": "stderr",
     "output_type": "stream",
     "text": [
      "00:57:23 - cmdstanpy - INFO - Chain [1] done processing\n"
     ]
    },
    {
     "name": "stdout",
     "output_type": "stream",
     "text": [
      "INFO:cmdstanpy:Chain [1] done processing\n",
      "INFO:timexseries.data_prediction.pipeline:No improvements.\n",
      "INFO:timexseries.data_prediction.pipeline:Checking optimal predictions with model seasonal_persistence\n",
      "INFO:timexseries.data_prediction.pipeline:-> Found the optimal prediction for only 0\n",
      "INFO:timexseries.data_prediction.pipeline:Found useful extra-regressors: Index(['PM2.5(µg/m³)', 'nitrogen-dioxide(µg/m³)', 'Ozone(µg/m³)',\n",
      "       'BlackCarbon(µg/m³)'],\n",
      "      dtype='object'). Re-compute the prediction for  PM10(µg/m³)\n",
      "INFO:timexseries.data_prediction.models.predictor:Creating a Seasonal persistence model...\n",
      "INFO:timexseries.data_prediction.models.predictor:Model will use 4 different training sets...\n",
      "INFO:timexseries.data_prediction.pipeline:No improvements.\n",
      "INFO:timexseries.data_prediction.pipeline:Found useful extra-regressors: Index([' PM10(µg/m³)', 'nitrogen-dioxide(µg/m³)', 'Ozone(µg/m³)',\n",
      "       'BlackCarbon(µg/m³)'],\n",
      "      dtype='object'). Re-compute the prediction for PM2.5(µg/m³)\n",
      "INFO:timexseries.data_prediction.models.predictor:Creating a Seasonal persistence model...\n",
      "INFO:timexseries.data_prediction.models.predictor:Model will use 4 different training sets...\n",
      "INFO:timexseries.data_prediction.pipeline:No improvements.\n",
      "INFO:timexseries.data_prediction.pipeline:Found useful extra-regressors: Index([' PM10(µg/m³)', 'PM2.5(µg/m³)', 'Ozone(µg/m³)', 'BlackCarbon(µg/m³)'], dtype='object'). Re-compute the prediction for nitrogen-dioxide(µg/m³)\n",
      "INFO:timexseries.data_prediction.models.predictor:Creating a Seasonal persistence model...\n",
      "INFO:timexseries.data_prediction.models.predictor:Model will use 4 different training sets...\n",
      "INFO:timexseries.data_prediction.pipeline:No improvements.\n",
      "INFO:timexseries.data_prediction.pipeline:Found useful extra-regressors: Index([' PM10(µg/m³)', 'PM2.5(µg/m³)', 'nitrogen-dioxide(µg/m³)',\n",
      "       'BlackCarbon(µg/m³)'],\n",
      "      dtype='object'). Re-compute the prediction for Ozone(µg/m³)\n",
      "INFO:timexseries.data_prediction.models.predictor:Creating a Seasonal persistence model...\n",
      "INFO:timexseries.data_prediction.models.predictor:Model will use 4 different training sets...\n",
      "INFO:timexseries.data_prediction.pipeline:No improvements.\n",
      "INFO:timexseries.data_prediction.pipeline:Found useful extra-regressors: Index([' PM10(µg/m³)', 'PM2.5(µg/m³)', 'nitrogen-dioxide(µg/m³)',\n",
      "       'Ozone(µg/m³)'],\n",
      "      dtype='object'). Re-compute the prediction for BlackCarbon(µg/m³)\n",
      "INFO:timexseries.data_prediction.models.predictor:Creating a Seasonal persistence model...\n",
      "INFO:timexseries.data_prediction.models.predictor:Model will use 4 different training sets...\n",
      "INFO:timexseries.data_prediction.pipeline:No improvements.\n",
      "INFO:timexseries.data_prediction.pipeline:Found the optimal prediction for all the 5 time-series in 1 iterations!\n"
     ]
    }
   ],
   "source": [
    "timeseries_containers = create_timeseries_containers(ingested_dataset, param_config)"
   ]
  },
  {
   "cell_type": "code",
   "execution_count": 5,
   "metadata": {},
   "outputs": [],
   "source": [
    "import pickle\n",
    "\n",
    "with open('ARPA-timeseriesContainerProphetSeasPers.pkl', 'wb') as f:\n",
    "    pickle.dump(timeseries_containers, f)"
   ]
  },
  {
   "cell_type": "code",
   "execution_count": 1,
   "metadata": {},
   "outputs": [],
   "source": [
    "import pickle\n",
    "with open('ARPA-timeseriesContainers.pkl', 'rb') as f:\n",
    "    tsc = pickle.load(f)\n",
    "    "
   ]
  },
  {
   "cell_type": "code",
   "execution_count": null,
   "metadata": {},
   "outputs": [],
   "source": []
  }
 ],
 "metadata": {
  "kernelspec": {
   "display_name": "timexdocker-qjPkTtX4-py3.9",
   "language": "python",
   "name": "python3"
  },
  "language_info": {
   "codemirror_mode": {
    "name": "ipython",
    "version": 3
   },
   "file_extension": ".py",
   "mimetype": "text/x-python",
   "name": "python",
   "nbconvert_exporter": "python",
   "pygments_lexer": "ipython3",
   "version": "3.9.7"
  }
 },
 "nbformat": 4,
 "nbformat_minor": 4
}
